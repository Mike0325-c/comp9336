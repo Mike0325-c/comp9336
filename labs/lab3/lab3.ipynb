{
 "cells": [
  {
   "cell_type": "code",
   "execution_count": 44,
   "metadata": {},
   "outputs": [],
   "source": [
    "import pandas as pd\n",
    "import matplotlib.pyplot as plt\n",
    "import csv\n",
    "import math\n",
    "import numpy as np"
   ]
  },
  {
   "cell_type": "code",
   "execution_count": 43,
   "metadata": {},
   "outputs": [],
   "source": [
    "# Define the read_csv function\n",
    "def read_csv(filename, distance):\n",
    "    df_read = pd.read_csv(filename)  # Read CSV file\n",
    "    df_value = df_read['Signal strength (RSSI)'].apply(lambda x: int(x.strip('dBm')))  # Convert dBm values to integers\n",
    "    \n",
    "    df = pd.DataFrame(df_value)  # Create a DataFrame\n",
    "    df[\"Distance\"] = distance  # Add a 'Distance' column\n",
    "    return df\n",
    "\n",
    "# Read the first CSV file\n",
    "all_df = read_csv(\"Indoor1.csv\", 1)\n",
    "\n",
    "# Loop through remaining files and concatenate DataFrames\n",
    "for i in range(2, 11):\n",
    "    df = read_csv(filename=f\"Indoor{i}.csv\", distance=i)\n",
    "    all_df = pd.concat([all_df, df], ignore_index=True)  \n",
    "\n"
   ]
  },
  {
   "cell_type": "code",
   "execution_count": 45,
   "metadata": {},
   "outputs": [
    {
     "data": {
      "text/html": [
       "<div>\n",
       "<style scoped>\n",
       "    .dataframe tbody tr th:only-of-type {\n",
       "        vertical-align: middle;\n",
       "    }\n",
       "\n",
       "    .dataframe tbody tr th {\n",
       "        vertical-align: top;\n",
       "    }\n",
       "\n",
       "    .dataframe thead th {\n",
       "        text-align: right;\n",
       "    }\n",
       "</style>\n",
       "<table border=\"1\" class=\"dataframe\">\n",
       "  <thead>\n",
       "    <tr style=\"text-align: right;\">\n",
       "      <th></th>\n",
       "      <th>Signal strength (RSSI)</th>\n",
       "    </tr>\n",
       "    <tr>\n",
       "      <th>Distance</th>\n",
       "      <th></th>\n",
       "    </tr>\n",
       "  </thead>\n",
       "  <tbody>\n",
       "    <tr>\n",
       "      <th>1</th>\n",
       "      <td>322</td>\n",
       "    </tr>\n",
       "    <tr>\n",
       "      <th>2</th>\n",
       "      <td>263</td>\n",
       "    </tr>\n",
       "    <tr>\n",
       "      <th>3</th>\n",
       "      <td>290</td>\n",
       "    </tr>\n",
       "    <tr>\n",
       "      <th>4</th>\n",
       "      <td>246</td>\n",
       "    </tr>\n",
       "    <tr>\n",
       "      <th>5</th>\n",
       "      <td>391</td>\n",
       "    </tr>\n",
       "    <tr>\n",
       "      <th>6</th>\n",
       "      <td>304</td>\n",
       "    </tr>\n",
       "    <tr>\n",
       "      <th>7</th>\n",
       "      <td>343</td>\n",
       "    </tr>\n",
       "    <tr>\n",
       "      <th>8</th>\n",
       "      <td>230</td>\n",
       "    </tr>\n",
       "    <tr>\n",
       "      <th>9</th>\n",
       "      <td>314</td>\n",
       "    </tr>\n",
       "    <tr>\n",
       "      <th>10</th>\n",
       "      <td>247</td>\n",
       "    </tr>\n",
       "  </tbody>\n",
       "</table>\n",
       "</div>"
      ],
      "text/plain": [
       "          Signal strength (RSSI)\n",
       "Distance                        \n",
       "1                            322\n",
       "2                            263\n",
       "3                            290\n",
       "4                            246\n",
       "5                            391\n",
       "6                            304\n",
       "7                            343\n",
       "8                            230\n",
       "9                            314\n",
       "10                           247"
      ]
     },
     "execution_count": 45,
     "metadata": {},
     "output_type": "execute_result"
    }
   ],
   "source": [
    "all_df.groupby(\"Distance\").count()"
   ]
  },
  {
   "cell_type": "code",
   "execution_count": 46,
   "metadata": {},
   "outputs": [
    {
     "data": {
      "text/plain": [
       "<AxesSubplot:xlabel='Distance', ylabel='Signal strength (RSSI)'>"
      ]
     },
     "execution_count": 46,
     "metadata": {},
     "output_type": "execute_result"
    },
    {
     "data": {
      "image/png": "[encoded data removed]",
      "text/plain": [
       "<Figure size 432x288 with 1 Axes>"
      ]
     },
     "metadata": {
      "needs_background": "light"
     },
     "output_type": "display_data"
    }
   ],
   "source": [
    "all_df.plot(kind=\"scatter\", x=\"Distance\", y = \"Signal strength (RSSI)\", logx = True)"
   ]
  },
  {
   "cell_type": "code",
   "execution_count": 47,
   "metadata": {},
   "outputs": [
    {
     "data": {
      "text/html": [
       "<div>\n",
       "<style scoped>\n",
       "    .dataframe tbody tr th:only-of-type {\n",
       "        vertical-align: middle;\n",
       "    }\n",
       "\n",
       "    .dataframe tbody tr th {\n",
       "        vertical-align: top;\n",
       "    }\n",
       "\n",
       "    .dataframe thead th {\n",
       "        text-align: right;\n",
       "    }\n",
       "</style>\n",
       "<table border=\"1\" class=\"dataframe\">\n",
       "  <thead>\n",
       "    <tr style=\"text-align: right;\">\n",
       "      <th></th>\n",
       "      <th>Signal strength (RSSI)</th>\n",
       "      <th>Distance</th>\n",
       "    </tr>\n",
       "    <tr>\n",
       "      <th>log_Distance</th>\n",
       "      <th></th>\n",
       "      <th></th>\n",
       "    </tr>\n",
       "  </thead>\n",
       "  <tbody>\n",
       "    <tr>\n",
       "      <th>0.000000</th>\n",
       "      <td>322</td>\n",
       "      <td>322</td>\n",
       "    </tr>\n",
       "    <tr>\n",
       "      <th>0.301030</th>\n",
       "      <td>263</td>\n",
       "      <td>263</td>\n",
       "    </tr>\n",
       "    <tr>\n",
       "      <th>0.477121</th>\n",
       "      <td>290</td>\n",
       "      <td>290</td>\n",
       "    </tr>\n",
       "    <tr>\n",
       "      <th>0.602060</th>\n",
       "      <td>246</td>\n",
       "      <td>246</td>\n",
       "    </tr>\n",
       "    <tr>\n",
       "      <th>0.698970</th>\n",
       "      <td>391</td>\n",
       "      <td>391</td>\n",
       "    </tr>\n",
       "    <tr>\n",
       "      <th>0.778151</th>\n",
       "      <td>304</td>\n",
       "      <td>304</td>\n",
       "    </tr>\n",
       "    <tr>\n",
       "      <th>0.845098</th>\n",
       "      <td>343</td>\n",
       "      <td>343</td>\n",
       "    </tr>\n",
       "    <tr>\n",
       "      <th>0.903090</th>\n",
       "      <td>230</td>\n",
       "      <td>230</td>\n",
       "    </tr>\n",
       "    <tr>\n",
       "      <th>0.954243</th>\n",
       "      <td>314</td>\n",
       "      <td>314</td>\n",
       "    </tr>\n",
       "    <tr>\n",
       "      <th>1.000000</th>\n",
       "      <td>247</td>\n",
       "      <td>247</td>\n",
       "    </tr>\n",
       "  </tbody>\n",
       "</table>\n",
       "</div>"
      ],
      "text/plain": [
       "              Signal strength (RSSI)  Distance\n",
       "log_Distance                                  \n",
       "0.000000                         322       322\n",
       "0.301030                         263       263\n",
       "0.477121                         290       290\n",
       "0.602060                         246       246\n",
       "0.698970                         391       391\n",
       "0.778151                         304       304\n",
       "0.845098                         343       343\n",
       "0.903090                         230       230\n",
       "0.954243                         314       314\n",
       "1.000000                         247       247"
      ]
     },
     "execution_count": 47,
     "metadata": {},
     "output_type": "execute_result"
    }
   ],
   "source": [
    "all_df[\"log_Distance\"] = all_df[\"Distance\"].apply(math.log10)\n",
    "all_df\n",
    "all_df.groupby(\"log_Distance\").count()\n",
    "# all_df"
   ]
  },
  {
   "cell_type": "code",
   "execution_count": 65,
   "metadata": {},
   "outputs": [
    {
     "name": "stdout",
     "output_type": "stream",
     "text": [
      "y=-24.469503947332427x + -34.956833882386704\n"
     ]
    },
    {
     "data": {
      "image/png": "[encoded data removed]",
      "text/plain": [
       "<Figure size 432x288 with 1 Axes>"
      ]
     },
     "metadata": {
      "needs_background": "light"
     },
     "output_type": "display_data"
    }
   ],
   "source": [
    "import numpy as np\n",
    "import matplotlib.pyplot as plt\n",
    "from sklearn.metrics import r2_score\n",
    "m, b = np.polyfit(all_df[\"log_Distance\"], all_df[\"Signal strength (RSSI)\"], 1)\n",
    "fig, ax1 = plt.subplots(1)\n",
    "ax1.plot(all_df[\"Distance\"], m*all_df[\"log_Distance\"] + b)\n",
    "all_df.plot(kind=\"scatter\", x=\"Distance\", y = \"Signal strength (RSSI)\", logx = True, ax=ax1)\n",
    "\n",
    "# ax1.text(0.05, 0.05, f\"y = {m}x + {b}\", transform=ax1.transAxes, fontsize=12, verticalalignment='top')\n",
    "ax1.set_xlabel(\"distance-log (meter)\")\n",
    "ax1.set_title(\"RSS vs .Log Distance\")\n",
    "\n",
    "print(f\"y={m}x + {b}\")\n",
    "predicted_rssi = m * all_df[\"log_Distance\"] + b\n",
    "\n",
    "# Calculate R-squared\n",
    "r_squared = r2_score(all_df[\"Signal strength (RSSI)\"], predicted_rssi)\n",
    "\n",
    "# print(f\"R-squared = {r_squared:.2f}\")"
   ]
  },
  {
   "cell_type": "code",
   "execution_count": 100,
   "metadata": {},
   "outputs": [
    {
     "data": {
      "text/html": [
       "<div>\n",
       "<style scoped>\n",
       "    .dataframe tbody tr th:only-of-type {\n",
       "        vertical-align: middle;\n",
       "    }\n",
       "\n",
       "    .dataframe tbody tr th {\n",
       "        vertical-align: top;\n",
       "    }\n",
       "\n",
       "    .dataframe thead th {\n",
       "        text-align: right;\n",
       "    }\n",
       "</style>\n",
       "<table border=\"1\" class=\"dataframe\">\n",
       "  <thead>\n",
       "    <tr style=\"text-align: right;\">\n",
       "      <th></th>\n",
       "      <th>Signal strength (RSSI)</th>\n",
       "      <th>log_Distance</th>\n",
       "    </tr>\n",
       "    <tr>\n",
       "      <th>Distance</th>\n",
       "      <th></th>\n",
       "      <th></th>\n",
       "    </tr>\n",
       "  </thead>\n",
       "  <tbody>\n",
       "    <tr>\n",
       "      <th>1</th>\n",
       "      <td>-31.220497</td>\n",
       "      <td>0.000000</td>\n",
       "    </tr>\n",
       "    <tr>\n",
       "      <th>2</th>\n",
       "      <td>-45.809886</td>\n",
       "      <td>0.301030</td>\n",
       "    </tr>\n",
       "    <tr>\n",
       "      <th>3</th>\n",
       "      <td>-46.341379</td>\n",
       "      <td>0.477121</td>\n",
       "    </tr>\n",
       "    <tr>\n",
       "      <th>6</th>\n",
       "      <td>-53.118421</td>\n",
       "      <td>0.778151</td>\n",
       "    </tr>\n",
       "    <tr>\n",
       "      <th>7</th>\n",
       "      <td>-51.965015</td>\n",
       "      <td>0.845098</td>\n",
       "    </tr>\n",
       "    <tr>\n",
       "      <th>8</th>\n",
       "      <td>-57.191304</td>\n",
       "      <td>0.903090</td>\n",
       "    </tr>\n",
       "    <tr>\n",
       "      <th>9</th>\n",
       "      <td>-59.076433</td>\n",
       "      <td>0.954243</td>\n",
       "    </tr>\n",
       "    <tr>\n",
       "      <th>10</th>\n",
       "      <td>-56.125506</td>\n",
       "      <td>1.000000</td>\n",
       "    </tr>\n",
       "  </tbody>\n",
       "</table>\n",
       "</div>"
      ],
      "text/plain": [
       "          Signal strength (RSSI)  log_Distance\n",
       "Distance                                      \n",
       "1                     -31.220497      0.000000\n",
       "2                     -45.809886      0.301030\n",
       "3                     -46.341379      0.477121\n",
       "6                     -53.118421      0.778151\n",
       "7                     -51.965015      0.845098\n",
       "8                     -57.191304      0.903090\n",
       "9                     -59.076433      0.954243\n",
       "10                    -56.125506      1.000000"
      ]
     },
     "execution_count": 100,
     "metadata": {},
     "output_type": "execute_result"
    }
   ],
   "source": [
    "avg_all_df = all_df.groupby(\"Distance\").mean()\n",
    "avg_all_df = avg_all_df.drop(4)\n",
    "avg_all_df = avg_all_df.drop(5)\n",
    "avg_all_df"
   ]
  },
  {
   "cell_type": "code",
   "execution_count": 101,
   "metadata": {},
   "outputs": [
    {
     "name": "stdout",
     "output_type": "stream",
     "text": [
      "y=-24.03022234696737x + -34.309989645044695\n",
      "R-squared-value = 0.92\n"
     ]
    },
    {
     "data": {
      "image/png": "[encoded data removed]",
      "text/plain": [
       "<Figure size 432x288 with 1 Axes>"
      ]
     },
     "metadata": {
      "needs_background": "light"
     },
     "output_type": "display_data"
    }
   ],
   "source": [
    "x = avg_all_df[\"log_Distance\"]\n",
    "y = avg_all_df[\"Signal strength (RSSI)\"]\n",
    "m, b = np.polyfit(x,y ,1)\n",
    "\n",
    "fig, ax1 = plt.subplots(1)\n",
    "ax1.plot(x, m*x + b)\n",
    "avg_all_df.plot(kind=\"scatter\", x=\"log_Distance\", y = \"Signal strength (RSSI)\", ax=ax1)\n",
    "ax1.set_xlabel(\"distance-log (meter)\")\n",
    "ax1.set_title(\"Average RSS vs .Log Distance\")\n",
    "print(f\"y={m}x + {b}\")\n",
    "\n",
    "predicted_rssi = m * avg_all_df[\"log_Distance\"] + b\n",
    "\n",
    "# Calculate R-squared\n",
    "r_squared = r2_score(avg_all_df[\"Signal strength (RSSI)\"], predicted_rssi)\n",
    "\n",
    "print(f\"R-squared-value = {r_squared:.2f}\")"
   ]
  },
  {
   "cell_type": "markdown",
   "metadata": {},
   "source": [
    "## Outdoor experiment\n"
   ]
  },
  {
   "cell_type": "code",
   "execution_count": 70,
   "metadata": {},
   "outputs": [],
   "source": [
    "# Read the first CSV file\n",
    "all_df2 = read_csv(\"Outdoor1.csv\", 1)\n",
    "\n",
    "# Loop through remaining files and concatenate DataFrames\n",
    "for i in range(2, 11):\n",
    "    df2 = read_csv(filename=f\"Outdoor{i}.csv\", distance=i)\n",
    "    all_df2 = pd.concat([all_df2, df2], ignore_index=True) "
   ]
  },
  {
   "cell_type": "code",
   "execution_count": 71,
   "metadata": {},
   "outputs": [
    {
     "data": {
      "text/html": [
       "<div>\n",
       "<style scoped>\n",
       "    .dataframe tbody tr th:only-of-type {\n",
       "        vertical-align: middle;\n",
       "    }\n",
       "\n",
       "    .dataframe tbody tr th {\n",
       "        vertical-align: top;\n",
       "    }\n",
       "\n",
       "    .dataframe thead th {\n",
       "        text-align: right;\n",
       "    }\n",
       "</style>\n",
       "<table border=\"1\" class=\"dataframe\">\n",
       "  <thead>\n",
       "    <tr style=\"text-align: right;\">\n",
       "      <th></th>\n",
       "      <th>Signal strength (RSSI)</th>\n",
       "    </tr>\n",
       "    <tr>\n",
       "      <th>Distance</th>\n",
       "      <th></th>\n",
       "    </tr>\n",
       "  </thead>\n",
       "  <tbody>\n",
       "    <tr>\n",
       "      <th>1</th>\n",
       "      <td>281</td>\n",
       "    </tr>\n",
       "    <tr>\n",
       "      <th>2</th>\n",
       "      <td>257</td>\n",
       "    </tr>\n",
       "    <tr>\n",
       "      <th>3</th>\n",
       "      <td>302</td>\n",
       "    </tr>\n",
       "    <tr>\n",
       "      <th>4</th>\n",
       "      <td>214</td>\n",
       "    </tr>\n",
       "    <tr>\n",
       "      <th>5</th>\n",
       "      <td>270</td>\n",
       "    </tr>\n",
       "    <tr>\n",
       "      <th>6</th>\n",
       "      <td>219</td>\n",
       "    </tr>\n",
       "    <tr>\n",
       "      <th>7</th>\n",
       "      <td>395</td>\n",
       "    </tr>\n",
       "    <tr>\n",
       "      <th>8</th>\n",
       "      <td>218</td>\n",
       "    </tr>\n",
       "    <tr>\n",
       "      <th>9</th>\n",
       "      <td>300</td>\n",
       "    </tr>\n",
       "    <tr>\n",
       "      <th>10</th>\n",
       "      <td>309</td>\n",
       "    </tr>\n",
       "  </tbody>\n",
       "</table>\n",
       "</div>"
      ],
      "text/plain": [
       "          Signal strength (RSSI)\n",
       "Distance                        \n",
       "1                            281\n",
       "2                            257\n",
       "3                            302\n",
       "4                            214\n",
       "5                            270\n",
       "6                            219\n",
       "7                            395\n",
       "8                            218\n",
       "9                            300\n",
       "10                           309"
      ]
     },
     "execution_count": 71,
     "metadata": {},
     "output_type": "execute_result"
    }
   ],
   "source": [
    "all_df2.groupby(\"Distance\").count()"
   ]
  },
  {
   "cell_type": "code",
   "execution_count": 72,
   "metadata": {},
   "outputs": [
    {
     "data": {
      "text/plain": [
       "<AxesSubplot:xlabel='Distance', ylabel='Signal strength (RSSI)'>"
      ]
     },
     "execution_count": 72,
     "metadata": {},
     "output_type": "execute_result"
    },
    {
     "data": {
      "image/png": "[encoded data removed]",
      "text/plain": [
       "<Figure size 432x288 with 1 Axes>"
      ]
     },
     "metadata": {
      "needs_background": "light"
     },
     "output_type": "display_data"
    }
   ],
   "source": [
    "all_df2.plot(kind=\"scatter\", x=\"Distance\", y = \"Signal strength (RSSI)\", logx = True)"
   ]
  },
  {
   "cell_type": "code",
   "execution_count": 74,
   "metadata": {},
   "outputs": [
    {
     "data": {
      "text/html": [
       "<div>\n",
       "<style scoped>\n",
       "    .dataframe tbody tr th:only-of-type {\n",
       "        vertical-align: middle;\n",
       "    }\n",
       "\n",
       "    .dataframe tbody tr th {\n",
       "        vertical-align: top;\n",
       "    }\n",
       "\n",
       "    .dataframe thead th {\n",
       "        text-align: right;\n",
       "    }\n",
       "</style>\n",
       "<table border=\"1\" class=\"dataframe\">\n",
       "  <thead>\n",
       "    <tr style=\"text-align: right;\">\n",
       "      <th></th>\n",
       "      <th>Signal strength (RSSI)</th>\n",
       "      <th>Distance</th>\n",
       "    </tr>\n",
       "    <tr>\n",
       "      <th>log_Distance</th>\n",
       "      <th></th>\n",
       "      <th></th>\n",
       "    </tr>\n",
       "  </thead>\n",
       "  <tbody>\n",
       "    <tr>\n",
       "      <th>0.000000</th>\n",
       "      <td>281</td>\n",
       "      <td>281</td>\n",
       "    </tr>\n",
       "    <tr>\n",
       "      <th>0.301030</th>\n",
       "      <td>257</td>\n",
       "      <td>257</td>\n",
       "    </tr>\n",
       "    <tr>\n",
       "      <th>0.477121</th>\n",
       "      <td>302</td>\n",
       "      <td>302</td>\n",
       "    </tr>\n",
       "    <tr>\n",
       "      <th>0.602060</th>\n",
       "      <td>214</td>\n",
       "      <td>214</td>\n",
       "    </tr>\n",
       "    <tr>\n",
       "      <th>0.698970</th>\n",
       "      <td>270</td>\n",
       "      <td>270</td>\n",
       "    </tr>\n",
       "    <tr>\n",
       "      <th>0.778151</th>\n",
       "      <td>219</td>\n",
       "      <td>219</td>\n",
       "    </tr>\n",
       "    <tr>\n",
       "      <th>0.845098</th>\n",
       "      <td>395</td>\n",
       "      <td>395</td>\n",
       "    </tr>\n",
       "    <tr>\n",
       "      <th>0.903090</th>\n",
       "      <td>218</td>\n",
       "      <td>218</td>\n",
       "    </tr>\n",
       "    <tr>\n",
       "      <th>0.954243</th>\n",
       "      <td>300</td>\n",
       "      <td>300</td>\n",
       "    </tr>\n",
       "    <tr>\n",
       "      <th>1.000000</th>\n",
       "      <td>309</td>\n",
       "      <td>309</td>\n",
       "    </tr>\n",
       "  </tbody>\n",
       "</table>\n",
       "</div>"
      ],
      "text/plain": [
       "              Signal strength (RSSI)  Distance\n",
       "log_Distance                                  \n",
       "0.000000                         281       281\n",
       "0.301030                         257       257\n",
       "0.477121                         302       302\n",
       "0.602060                         214       214\n",
       "0.698970                         270       270\n",
       "0.778151                         219       219\n",
       "0.845098                         395       395\n",
       "0.903090                         218       218\n",
       "0.954243                         300       300\n",
       "1.000000                         309       309"
      ]
     },
     "execution_count": 74,
     "metadata": {},
     "output_type": "execute_result"
    }
   ],
   "source": [
    "all_df2[\"log_Distance\"] = all_df2[\"Distance\"].apply(math.log10)\n",
    "all_df2\n",
    "all_df2.groupby(\"log_Distance\").count()"
   ]
  },
  {
   "cell_type": "code",
   "execution_count": 75,
   "metadata": {},
   "outputs": [
    {
     "name": "stdout",
     "output_type": "stream",
     "text": [
      "y=-22.844563024967783x + -25.399002670875834\n"
     ]
    },
    {
     "data": {
      "image/png": "[encoded data removed]",
      "text/plain": [
       "<Figure size 432x288 with 1 Axes>"
      ]
     },
     "metadata": {
      "needs_background": "light"
     },
     "output_type": "display_data"
    }
   ],
   "source": [
    "m, b = np.polyfit(all_df2[\"log_Distance\"], all_df2[\"Signal strength (RSSI)\"], 1)\n",
    "fig, ax1 = plt.subplots(1)\n",
    "ax1.plot(all_df2[\"Distance\"], m*all_df2[\"log_Distance\"] + b)\n",
    "all_df2.plot(kind=\"scatter\", x=\"Distance\", y = \"Signal strength (RSSI)\", logx = True, ax=ax1)\n",
    "ax1.set_xlabel(\"distance-log (meter)\")\n",
    "ax1.set_title(\"RSS vs .Log Distance\")\n",
    "\n",
    "print(f\"y={m}x + {b}\")"
   ]
  },
  {
   "cell_type": "code",
   "execution_count": 95,
   "metadata": {},
   "outputs": [
    {
     "data": {
      "text/html": [
       "<div>\n",
       "<style scoped>\n",
       "    .dataframe tbody tr th:only-of-type {\n",
       "        vertical-align: middle;\n",
       "    }\n",
       "\n",
       "    .dataframe tbody tr th {\n",
       "        vertical-align: top;\n",
       "    }\n",
       "\n",
       "    .dataframe thead th {\n",
       "        text-align: right;\n",
       "    }\n",
       "</style>\n",
       "<table border=\"1\" class=\"dataframe\">\n",
       "  <thead>\n",
       "    <tr style=\"text-align: right;\">\n",
       "      <th></th>\n",
       "      <th>Signal strength (RSSI)</th>\n",
       "      <th>log_Distance</th>\n",
       "    </tr>\n",
       "    <tr>\n",
       "      <th>Distance</th>\n",
       "      <th></th>\n",
       "      <th></th>\n",
       "    </tr>\n",
       "  </thead>\n",
       "  <tbody>\n",
       "    <tr>\n",
       "      <th>1</th>\n",
       "      <td>-24.857651</td>\n",
       "      <td>0.000000</td>\n",
       "    </tr>\n",
       "    <tr>\n",
       "      <th>2</th>\n",
       "      <td>-33.342412</td>\n",
       "      <td>0.301030</td>\n",
       "    </tr>\n",
       "    <tr>\n",
       "      <th>3</th>\n",
       "      <td>-33.605960</td>\n",
       "      <td>0.477121</td>\n",
       "    </tr>\n",
       "    <tr>\n",
       "      <th>4</th>\n",
       "      <td>-40.640187</td>\n",
       "      <td>0.602060</td>\n",
       "    </tr>\n",
       "    <tr>\n",
       "      <th>5</th>\n",
       "      <td>-43.144444</td>\n",
       "      <td>0.698970</td>\n",
       "    </tr>\n",
       "    <tr>\n",
       "      <th>7</th>\n",
       "      <td>-44.865823</td>\n",
       "      <td>0.845098</td>\n",
       "    </tr>\n",
       "    <tr>\n",
       "      <th>8</th>\n",
       "      <td>-42.862385</td>\n",
       "      <td>0.903090</td>\n",
       "    </tr>\n",
       "    <tr>\n",
       "      <th>9</th>\n",
       "      <td>-44.016667</td>\n",
       "      <td>0.954243</td>\n",
       "    </tr>\n",
       "    <tr>\n",
       "      <th>10</th>\n",
       "      <td>-49.873786</td>\n",
       "      <td>1.000000</td>\n",
       "    </tr>\n",
       "  </tbody>\n",
       "</table>\n",
       "</div>"
      ],
      "text/plain": [
       "          Signal strength (RSSI)  log_Distance\n",
       "Distance                                      \n",
       "1                     -24.857651      0.000000\n",
       "2                     -33.342412      0.301030\n",
       "3                     -33.605960      0.477121\n",
       "4                     -40.640187      0.602060\n",
       "5                     -43.144444      0.698970\n",
       "7                     -44.865823      0.845098\n",
       "8                     -42.862385      0.903090\n",
       "9                     -44.016667      0.954243\n",
       "10                    -49.873786      1.000000"
      ]
     },
     "execution_count": 95,
     "metadata": {},
     "output_type": "execute_result"
    }
   ],
   "source": [
    "avg_all_df2 = all_df2.groupby(\"Distance\").mean()\n",
    "avg_all_df2 = avg_all_df2.drop(6)\n",
    "avg_all_df2"
   ]
  },
  {
   "cell_type": "code",
   "execution_count": 96,
   "metadata": {},
   "outputs": [
    {
     "name": "stdout",
     "output_type": "stream",
     "text": [
      "y=-22.026101079694126x + -25.54032788641628\n",
      "R-squared-value = 0.93\n"
     ]
    },
    {
     "data": {
      "image/png": "[encoded data removed]",
      "text/plain": [
       "<Figure size 432x288 with 1 Axes>"
      ]
     },
     "metadata": {
      "needs_background": "light"
     },
     "output_type": "display_data"
    }
   ],
   "source": [
    "x = avg_all_df2[\"log_Distance\"]\n",
    "y = avg_all_df2[\"Signal strength (RSSI)\"]\n",
    "m, b = np.polyfit(x,y ,1)\n",
    "\n",
    "fig, ax1 = plt.subplots(1)\n",
    "ax1.plot(x, m*x + b)\n",
    "avg_all_df2.plot(kind=\"scatter\", x=\"log_Distance\", y = \"Signal strength (RSSI)\", ax=ax1)\n",
    "ax1.set_xlabel(\"distance-log (meter)\")\n",
    "ax1.set_title(\"Average RSS vs .Log Distance\")\n",
    "print(f\"y={m}x + {b}\")\n",
    "\n",
    "predicted_rssi = m * avg_all_df2[\"log_Distance\"] + b\n",
    "\n",
    "# Calculate R-squared\n",
    "r_squared = r2_score(avg_all_df2[\"Signal strength (RSSI)\"], predicted_rssi)\n",
    "\n",
    "print(f\"R-squared-value = {r_squared:.2f}\")"
   ]
  }
 ],
 "metadata": {
  "kernelspec": {
   "display_name": "Python 3",
   "language": "python",
   "name": "python3"
  },
  "language_info": {
   "codemirror_mode": {
    "name": "ipython",
    "version": 3
   },
   "file_extension": ".py",
   "mimetype": "text/x-python",
   "name": "python",
   "nbconvert_exporter": "python",
   "pygments_lexer": "ipython3",
   "version": "3.10.5"
  }
 },
 "nbformat": 4,
 "nbformat_minor": 2
}
